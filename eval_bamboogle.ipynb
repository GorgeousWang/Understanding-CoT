{
 "cells": [
  {
   "cell_type": "code",
   "execution_count": 1,
   "id": "c806cd16",
   "metadata": {},
   "outputs": [],
   "source": [
    "import json\n",
    "import re\n",
    "import argparse\n",
    "import csv\n",
    "from utils import read_jsonl\n",
    "import numpy as np\n",
    "import pandas as pd\n",
    "\n",
    "\n",
    "def tokenize(a):\n",
    "    \"\"\"\n",
    "    lower, split, strip each token\n",
    "    \"\"\"\n",
    "    b = a.lower().split()\n",
    "    for ii in range(len(b)):\n",
    "        b[ii] = b[ii].strip().strip('?.,\\\"\\'').strip()\n",
    "    return b\n",
    "\n",
    "def main(path):\n",
    "    \n",
    "    inter_ent = list(pd.read_csv(\"Bamboogle Prerelease - Sheet1_inter.csv\", encoding = \"cp1252\").sub_a1)\n",
    "    \n",
    "    if path.endswith(\".json\"):\n",
    "        with open(path, \"r\") as f:\n",
    "            results = json.load(f)[:-1]\n",
    "    elif path.endswith(\".jsonl\"):\n",
    "        results = read_jsonl(path)[:-1]\n",
    "    else:\n",
    "        assert False\n",
    "        \n",
    "    assert len(results) == len(inter_ent) == 125\n",
    "    \n",
    "    F1_list = []\n",
    "    InterRecall_list = []\n",
    "\n",
    "    for i in range(len(results)):\n",
    "        x = results[i]\n",
    "        assert type(x) == dict\n",
    "        c = str(inter_ent[i]).strip().lower()\n",
    "        for key in x.keys():\n",
    "            if key.startswith(\"ans_\"):\n",
    "                setting_name = key[4:]\n",
    "                ans = x['answer'].strip().lower()\n",
    "                ans_1 = x[key].split(\"Question:\")[0]\n",
    "                ans_1 = ans_1.strip(\" .\").lower()\n",
    "                predicted_ans = ans_1.split(\". \")[-1].split(\":\")[-1].strip()\n",
    "                \n",
    "                # Ans.F1\n",
    "                output_w = set(tokenize(predicted_ans))\n",
    "                target_w = set(tokenize(ans))\n",
    "                num_share_w = len(output_w & target_w)\n",
    "                if num_share_w == 0:\n",
    "                    f1 = 0\n",
    "                else:\n",
    "                    precision = num_share_w / len(output_w)\n",
    "                    recall = num_share_w / len(target_w)\n",
    "                    f1 = 2 * precision * recall / (precision + recall)\n",
    "                F1_list.append(f1)\n",
    "                \n",
    "                # Inter. Recall\n",
    "                if c == 'no_ans':\n",
    "                    InterRecall_list.append(np.mean([ans in ans_1]))\n",
    "                else:\n",
    "                    InterRecall_list.append(np.mean([c in ans_1, ans in ans_1]))\n",
    "    \n",
    "    print(\"setting:\", setting_name)\n",
    "    print(\"\\tAns.F1:\", np.mean(F1_list))\n",
    "    if setting_name == 'standard':\n",
    "        return\n",
    "    print(\"\\tInter.Recall:\", np.mean(InterRecall_list))"
   ]
  },
  {
   "cell_type": "code",
   "execution_count": 2,
   "id": "e784384d",
   "metadata": {},
   "outputs": [
    {
     "name": "stdout",
     "output_type": "stream",
     "text": [
      "setting: CoT_original\n",
      "\tAns.F1: 0.4311980899275017\n",
      "\tInter.Recall: 0.448\n"
     ]
    }
   ],
   "source": [
    "main(\"result_bamboogle/bamboogle_CoT_original.engtext-davinci-002.sample-1.seed1357.temp0.0..jsonl\")"
   ]
  },
  {
   "cell_type": "code",
   "execution_count": 3,
   "id": "cb644358",
   "metadata": {},
   "outputs": [
    {
     "name": "stdout",
     "output_type": "stream",
     "text": [
      "setting: standard\n",
      "\tAns.F1: 0.20620952380952381\n",
      "setting: chain_of_thought\n",
      "\tAns.F1: 0.4520110399404517\n",
      "\tInter.Recall: 0.452\n",
      "setting: invalid_reasoning\n",
      "\tAns.F1: 0.3942220816220816\n",
      "\tInter.Recall: 0.444\n",
      "setting: no_num_coher\n",
      "\tAns.F1: 0.37446810731751906\n",
      "\tInter.Recall: 0.408\n",
      "setting: no_num_relev\n",
      "\tAns.F1: 0.3400019430724075\n",
      "\tInter.Recall: 0.396\n",
      "setting: no_lang_coher\n",
      "\tAns.F1: 0.32112607305548474\n",
      "\tInter.Recall: 0.352\n",
      "setting: no_lang_relev\n",
      "\tAns.F1: 0.29369955534661424\n",
      "\tInter.Recall: 0.404\n",
      "setting: no_coher\n",
      "\tAns.F1: 0.33804948149889325\n",
      "\tInter.Recall: 0.396\n",
      "setting: no_relev\n",
      "\tAns.F1: 0.23885556404379935\n",
      "\tInter.Recall: 0.368\n"
     ]
    }
   ],
   "source": [
    "main(\"result_bamboogle/bamboogle_standard.engtext-davinci-002.sample-1.seed1357.temp0.0..jsonl\")\n",
    "main(\"result_bamboogle/bamboogle_chain_of_thought.engtext-davinci-002.sample-1.seed1357.temp0.0..jsonl\")\n",
    "main(\"result_bamboogle/bamboogle_invalid_reasoning.engtext-davinci-002.sample-1.seed1357.temp0.0..jsonl\")\n",
    "main(\"result_bamboogle/bamboogle_no_num_coher.engtext-davinci-002.sample-1.seed1357.temp0.0..jsonl\")\n",
    "main(\"result_bamboogle/bamboogle_no_num_relev.engtext-davinci-002.sample-1.seed1357.temp0.0..jsonl\")\n",
    "main(\"result_bamboogle/bamboogle_no_lang_coher.engtext-davinci-002.sample-1.seed1357.temp0.0..jsonl\")\n",
    "main(\"result_bamboogle/bamboogle_no_lang_relev.engtext-davinci-002.sample-1.seed1357.temp0.0..jsonl\")\n",
    "main(\"result_bamboogle/bamboogle_no_coher.engtext-davinci-002.sample-1.seed1357.temp0.0..jsonl\")\n",
    "main(\"result_bamboogle/bamboogle_no_relev.engtext-davinci-002.sample-1.seed1357.temp0.0..jsonl\")"
   ]
  },
  {
   "cell_type": "code",
   "execution_count": 4,
   "id": "3a072384",
   "metadata": {},
   "outputs": [
    {
     "name": "stdout",
     "output_type": "stream",
     "text": [
      "setting: chain_of_thought\n",
      "\tAns.F1: 0.5947809523809524\n",
      "\tInter.Recall: 0.616\n",
      "setting: invalid_reasoning\n",
      "\tAns.F1: 0.5638857142857143\n",
      "\tInter.Recall: 0.608\n",
      "setting: no_num_coher\n",
      "\tAns.F1: 0.5515238095238095\n",
      "\tInter.Recall: 0.592\n",
      "setting: no_num_relev\n",
      "\tAns.F1: 0.5689904761904763\n",
      "\tInter.Recall: 0.604\n",
      "setting: no_lang_coher\n",
      "\tAns.F1: 0.5141153804050355\n",
      "\tInter.Recall: 0.572\n",
      "setting: no_lang_relev\n",
      "\tAns.F1: 0.5926349206349206\n",
      "\tInter.Recall: 0.624\n",
      "setting: no_coher\n",
      "\tAns.F1: 0.5518476190476191\n",
      "\tInter.Recall: 0.576\n",
      "setting: no_relev\n",
      "\tAns.F1: 0.4897055921855922\n",
      "\tInter.Recall: 0.5\n",
      "setting: standard\n",
      "\tAns.F1: 0.2507751803751804\n"
     ]
    }
   ],
   "source": [
    "main(\"result_bamboogle/bamboogle_chain_of_thought.engtext-davinci-003.sample-1.seed1357.temp0.0..jsonl\")\n",
    "main(\"result_bamboogle/bamboogle_invalid_reasoning.engtext-davinci-003.sample-1.seed1357.temp0.0..jsonl\")\n",
    "main(\"result_bamboogle/bamboogle_no_num_coher.engtext-davinci-003.sample-1.seed1357.temp0.0..jsonl\")\n",
    "main(\"result_bamboogle/bamboogle_no_num_relev.engtext-davinci-003.sample-1.seed1357.temp0.0..jsonl\")\n",
    "main(\"result_bamboogle/bamboogle_no_lang_coher.engtext-davinci-003.sample-1.seed1357.temp0.0..jsonl\")\n",
    "main(\"result_bamboogle/bamboogle_no_lang_relev.engtext-davinci-003.sample-1.seed1357.temp0.0..jsonl\")\n",
    "main(\"result_bamboogle/bamboogle_no_coher.engtext-davinci-003.sample-1.seed1357.temp0.0..jsonl\")\n",
    "main(\"result_bamboogle/bamboogle_no_relev.engtext-davinci-003.sample-1.seed1357.temp0.0..jsonl\")\n",
    "main(\"result_bamboogle/bamboogle_standard.engtext-davinci-003.sample-1.seed1357.temp0.0..jsonl\")"
   ]
  }
 ],
 "metadata": {
  "kernelspec": {
   "display_name": "Python 3 (ipykernel)",
   "language": "python",
   "name": "python3"
  },
  "language_info": {
   "codemirror_mode": {
    "name": "ipython",
    "version": 3
   },
   "file_extension": ".py",
   "mimetype": "text/x-python",
   "name": "python",
   "nbconvert_exporter": "python",
   "pygments_lexer": "ipython3",
   "version": "3.8.8"
  }
 },
 "nbformat": 4,
 "nbformat_minor": 5
}
